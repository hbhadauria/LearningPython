{
 "cells": [
  {
   "cell_type": "code",
   "execution_count": 1,
   "id": "e0b2a3db",
   "metadata": {},
   "outputs": [
    {
     "data": {
      "text/plain": [
       "'hello'"
      ]
     },
     "execution_count": 1,
     "metadata": {},
     "output_type": "execute_result"
    }
   ],
   "source": [
    "'hello'"
   ]
  },
  {
   "cell_type": "code",
   "execution_count": 2,
   "id": "c05d9cd7",
   "metadata": {},
   "outputs": [
    {
     "data": {
      "text/plain": [
       "'there'"
      ]
     },
     "execution_count": 2,
     "metadata": {},
     "output_type": "execute_result"
    }
   ],
   "source": [
    "\"there\""
   ]
  },
  {
   "cell_type": "code",
   "execution_count": 3,
   "id": "fc58f20e",
   "metadata": {},
   "outputs": [
    {
     "data": {
      "text/plain": [
       "'another example of string'"
      ]
     },
     "execution_count": 3,
     "metadata": {},
     "output_type": "execute_result"
    }
   ],
   "source": [
    "'another example of string'"
   ]
  },
  {
   "cell_type": "code",
   "execution_count": 5,
   "id": "1c6bd6b3",
   "metadata": {},
   "outputs": [
    {
     "data": {
      "text/plain": [
       "\"I'm going on a run\""
      ]
     },
     "execution_count": 5,
     "metadata": {},
     "output_type": "execute_result"
    }
   ],
   "source": [
    "\"I'm going on a run\""
   ]
  },
  {
   "cell_type": "code",
   "execution_count": 6,
   "id": "7af843b1",
   "metadata": {},
   "outputs": [
    {
     "name": "stdout",
     "output_type": "stream",
     "text": [
      "hello there\n"
     ]
    }
   ],
   "source": [
    "print(\"hello there\")"
   ]
  },
  {
   "cell_type": "code",
   "execution_count": 7,
   "id": "2b909f8e",
   "metadata": {},
   "outputs": [
    {
     "data": {
      "text/plain": [
       "'hello there two'"
      ]
     },
     "execution_count": 7,
     "metadata": {},
     "output_type": "execute_result"
    }
   ],
   "source": [
    "\"hello there one\"\n",
    "\"hello there two\""
   ]
  },
  {
   "cell_type": "code",
   "execution_count": 8,
   "id": "363e4726",
   "metadata": {},
   "outputs": [
    {
     "name": "stdout",
     "output_type": "stream",
     "text": [
      "hello there one\n",
      "hello there two\n"
     ]
    }
   ],
   "source": [
    "print(\"hello there one\")\n",
    "print(\"hello there two\")"
   ]
  },
  {
   "cell_type": "code",
   "execution_count": 10,
   "id": "aaa257a0",
   "metadata": {},
   "outputs": [
    {
     "name": "stdout",
     "output_type": "stream",
     "text": [
      "hello \n",
      "there\n"
     ]
    }
   ],
   "source": [
    "print('hello \\nthere')"
   ]
  },
  {
   "cell_type": "code",
   "execution_count": 11,
   "id": "798a09ae",
   "metadata": {},
   "outputs": [
    {
     "name": "stdout",
     "output_type": "stream",
     "text": [
      "hello \tthere\n"
     ]
    }
   ],
   "source": [
    "print('hello \\tthere')"
   ]
  },
  {
   "cell_type": "code",
   "execution_count": 13,
   "id": "57e8b29a",
   "metadata": {},
   "outputs": [
    {
     "data": {
      "text/plain": [
       "11"
      ]
     },
     "execution_count": 13,
     "metadata": {},
     "output_type": "execute_result"
    }
   ],
   "source": [
    "len('hello there')"
   ]
  },
  {
   "cell_type": "code",
   "execution_count": 14,
   "id": "1abb2339",
   "metadata": {},
   "outputs": [
    {
     "data": {
      "text/plain": [
       "4"
      ]
     },
     "execution_count": 14,
     "metadata": {},
     "output_type": "execute_result"
    }
   ],
   "source": [
    "len('I am')"
   ]
  },
  {
   "cell_type": "code",
   "execution_count": null,
   "id": "02a6ec4d",
   "metadata": {},
   "outputs": [],
   "source": []
  }
 ],
 "metadata": {
  "kernelspec": {
   "display_name": "Python 3 (ipykernel)",
   "language": "python",
   "name": "python3"
  },
  "language_info": {
   "codemirror_mode": {
    "name": "ipython",
    "version": 3
   },
   "file_extension": ".py",
   "mimetype": "text/x-python",
   "name": "python",
   "nbconvert_exporter": "python",
   "pygments_lexer": "ipython3",
   "version": "3.9.7"
  }
 },
 "nbformat": 4,
 "nbformat_minor": 5
}
